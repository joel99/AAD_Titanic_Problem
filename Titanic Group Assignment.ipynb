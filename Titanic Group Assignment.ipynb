{
 "cells": [
  {
   "cell_type": "markdown",
   "metadata": {},
   "source": [
    "# Titanic Classifiers"
   ]
  },
  {
   "cell_type": "markdown",
   "metadata": {},
   "source": [
    "Authors:\n",
    "    Aaron McDaniel,\n",
    "    Jeffrey Minowa,\n",
    "    Joshua Reno,\n",
    "    & Joel Ye"
   ]
  },
  {
   "cell_type": "markdown",
   "metadata": {},
   "source": [
    "First we import all of the libraries and files we are using."
   ]
  },
  {
   "cell_type": "code",
   "execution_count": 55,
   "metadata": {},
   "outputs": [],
   "source": [
    "import pandas as pd\n",
    "import numpy as np\n",
    "from sklearn.model_selection import cross_val_score, train_test_split, KFold\n",
    "from sklearn.preprocessing import LabelEncoder\n",
    "import matplotlib.pyplot as plt\n",
    "from sklearn.neighbors import KNeighborsClassifier\n",
    "from sklearn.ensemble import RandomForestClassifier\n",
    "from sklearn import svm\n",
    "from sklearn.naive_bayes import GaussianNB\n",
    "import parser\n",
    "import svm\n",
    "import rfClassifier\n",
    "import knnClassifier\n",
    "import gnb"
   ]
  },
  {
   "cell_type": "markdown",
   "metadata": {},
   "source": [
    "Next we need methods to import the data into a usable format."
   ]
  },
  {
   "cell_type": "code",
   "execution_count": 34,
   "metadata": {},
   "outputs": [],
   "source": [
    "def load_data(filename):\n",
    "    url = 'data/' + filename\n",
    "    df = pd.read_csv(url, sep=',')\n",
    "    print(\"Loaded \" + filename)\n",
    "    return df.values"
   ]
  },
  {
   "cell_type": "markdown",
   "metadata": {},
   "source": [
    "This method will read in a csv file in the data folder and convert it into an array."
   ]
  },
  {
   "cell_type": "code",
   "execution_count": 35,
   "metadata": {},
   "outputs": [],
   "source": [
    "data_dir = 'data/'\n",
    "train_fn = 'train.csv'\n",
    "test_fn = 'test.csv'\n",
    "test_label_fn = 'gender_submission.csv'\n",
    "folds = 5\n",
    "\n",
    "def load_split_all():\n",
    "    le = LabelEncoder()\n",
    "    train_data = load_data(train_fn)\n",
    "    test_data = load_data(test_fn)\n",
    "    test_labels = load_data(test_label_fn)\n",
    "\n",
    "    # Note test data has different data order\n",
    "    # Convert sex column (col 4)\n",
    "    le.fit([\"male\", \"female\"])\n",
    "    train_data[:, 4] = le.transform(train_data[:, 4])\n",
    "    test_data[:, 3] = le.transform(test_data[:, 3])\n",
    "\n",
    "    # Convert embark column (col 11)\n",
    "    # le.fit([\"S\", \"C\", \"Q\", None])\n",
    "    # print(train_data[:, 11])\n",
    "    # train_data[:, 11] = le.transform(train_data[:, 11])\n",
    "    # test_data[:, 10] = le.transform(test_data[:, 10])\n",
    "    \n",
    "    # Feature selection:\n",
    "    # Trim passenger_id (c0), name (c3), ticket number (c8), cabin number (c10)\n",
    "    # As we're unsure about cabin_number domain effect, we're just dropping it\n",
    "    # Dropping embark since we think it's not too helpful, and has NaN\n",
    "    train_data = np.delete(train_data, [0, 3, 8, 10, 11], axis = 1)\n",
    "    test_data = np.delete(test_data, [0, 2, 7, 9, 10], axis = 1)\n",
    "\n",
    "    # Fill in NaN\n",
    "    train_data = np.where(pd.isnull(train_data), -1, train_data)\n",
    "    # test_data = np.where(pd.isnull(test_data), -1, test_data)\n",
    "    x_test = np.where(pd.isnull(test_data), -1, test_data)\n",
    "    y_test = test_labels\n",
    "\n",
    "    # Separate train_data into x and y\n",
    "    x_train = train_data[:, 1:].astype('float')\n",
    "    y_train = train_data[:, 0].astype('int')\n",
    "    return ((x_train, y_train), (x_test, y_test))\n"
   ]
  },
  {
   "cell_type": "markdown",
   "metadata": {},
   "source": [
    "This method takes in all relevent files and creates train and test datasets that are further split up into data and labels."
   ]
  },
  {
   "cell_type": "markdown",
   "metadata": {},
   "source": [
    "Now we need methods that can evaluate and rank classifiers"
   ]
  },
  {
   "cell_type": "code",
   "execution_count": 36,
   "metadata": {},
   "outputs": [],
   "source": [
    "def score(clf, data, labels):\n",
    "    \"\"\"\n",
    "    calculates the precision and recall for the given classifier on the given set of data and labels\n",
    "\n",
    "    :param clf: untrained classifier to be evaluated\n",
    "    :param data: the dataset used for cross validation\n",
    "    :param labels: the correct labels that match with the given data\n",
    "    :return: a tuple of the precision and recall scores for the given classifier\n",
    "    \"\"\"\n",
    "    kf = KFold(n_splits = 3, shuffle=False, random_state=0)\n",
    "    precision = cross_val_score(clf, data, labels, scoring='precision', cv=kf, n_jobs=-1)\n",
    "    recall = cross_val_score(clf, data, labels, scoring='recall', cv=kf, n_jobs=-1)\n",
    "    precision = precision.mean()\n",
    "    recall = recall.mean()\n",
    "\n",
    "    return (precision, recall)"
   ]
  },
  {
   "cell_type": "markdown",
   "metadata": {},
   "source": [
    "The method above will return the average precision and recall\n",
    "of the inputted classifier obtained during 5-fold cross validation."
   ]
  },
  {
   "cell_type": "code",
   "execution_count": 57,
   "metadata": {},
   "outputs": [],
   "source": [
    "def convert_to_FP_FN(labels, precision, recall):\n",
    "    \"\"\"\n",
    "    converts form precision and recall to FP and FN.\n",
    "    Since Recall = TP/(TP + FN), TP = Recall * Positives\n",
    "    This means we can solve for FN & FP with\n",
    "    FN = TP/Recall - TP\n",
    "    FP = TP/Precision - TP\n",
    "\n",
    "    :param labels: the list of numeric labels that the precision and recall metrics came from\n",
    "    :param precision: the precision of some classifier on the given labels\n",
    "    :param recall: the recall of some classifier on the given labels\n",
    "    :return: a tuple containing FP and FN in that order\n",
    "    \"\"\"\n",
    "    positives = sum([1 for l in labels if l == 1])\n",
    "    tp = int(recall * positives)\n",
    "    fn = int(tp / recall) - tp\n",
    "    fp = int(tp / precision) - tp\n",
    "\n",
    "    return (fp, fn)"
   ]
  },
  {
   "cell_type": "markdown",
   "metadata": {},
   "source": [
    "Since score returns precision and recall, the above method converts\n",
    "those metrics to False positives and false negatives with added\n",
    "information from the dataset labels."
   ]
  },
  {
   "cell_type": "code",
   "execution_count": 38,
   "metadata": {},
   "outputs": [],
   "source": [
    "def pareto_dominance_min(ind1, ind2):\n",
    "    \"\"\"\n",
    "    returns true if ind1 dominates ind2 by the metrics that should be minimized\n",
    "\n",
    "    :param ind1: tuple of FP and FN\n",
    "    :param ind2: tuple of FP and FN\n",
    "    :return: boolean representing if ind1 dominates ind2 using the metrics that should be minimized\n",
    "    \"\"\"\n",
    "\n",
    "    not_equal = False\n",
    "    for value_1, value_2 in zip(ind1, ind2):\n",
    "        if value_1 > value_2:\n",
    "            return False\n",
    "        elif value_1 < value_2:\n",
    "            not_equal = True\n",
    "    return not_equal\n"
   ]
  },
  {
   "cell_type": "markdown",
   "metadata": {},
   "source": [
    "The method above will return a boolean representation of if ind1 \n",
    "is pareto dominant compared to ind2 assuming that the 2 scores \n",
    "assiciated with each individual should be minimized."
   ]
  },
  {
   "cell_type": "code",
   "execution_count": 39,
   "metadata": {},
   "outputs": [],
   "source": [
    "def update_front(front, ind, comp):\n",
    "    \"\"\"\n",
    "    Makes a new pareto front out of the old pareto front and new individual\n",
    "    In this context an individual consists of scores and their hyper parameters\n",
    "    For example ind[0] is a tuple of precision and recall scores\n",
    "    and ind[1] is a list of the hyper-parameters needed to recreate the classifier\n",
    "\n",
    "    :param front: the old pareto front to be updated\n",
    "    :param ind: the new individual that may or may not change the old pareto front\n",
    "    :param comp: the method used to compare individuals as being pareto dominant or not\n",
    "    :return: the new pareto front\n",
    "    \"\"\"\n",
    "    # A member belongs on the front if it dominates or is not dominated by new ind\n",
    "    # New ind belongs on front if it is not dominated by any\n",
    "    # If new ind dominated, rest of front won't be dominated\n",
    "    newFront = []\n",
    "    isNewDominated = False\n",
    "    for i in range(len(front)):\n",
    "        old = front[i]\n",
    "        if comp(old[0], ind[0]): # Careful to compare the scores\n",
    "            isNewDominated = True\n",
    "            break\n",
    "        if not comp(ind[0], old[0]):\n",
    "            newFront.append(old)\n",
    "    if isNewDominated:\n",
    "        newFront.extend(front[i:]) # add rest of old front\n",
    "    else:\n",
    "        newFront.append(ind)\n",
    "    return newFront"
   ]
  },
  {
   "cell_type": "markdown",
   "metadata": {},
   "source": [
    "The above method will return the pareto front consisting of the \n",
    "old pareto front and one new individual."
   ]
  },
  {
   "cell_type": "code",
   "execution_count": 40,
   "metadata": {},
   "outputs": [],
   "source": [
    "def find_best_rf(data, labels):\n",
    "    # RF Hyperparams\n",
    "    n_trees = range(5, 20)\n",
    "    max_depth = range(3, 7)\n",
    "\n",
    "    front = []\n",
    "    hyperparams = (n_trees, max_depth)\n",
    "    for h1 in hyperparams[0]:\n",
    "        for h2 in hyperparams[1]:\n",
    "            clf = RandomForestClassifier(n_estimators=h1, max_depth=h2)\n",
    "            score = score(clf, data, labels)\n",
    "            score = convert_to_FP_FN(labels, score[0], score[1])\n",
    "\n",
    "            ind = [score, (h1, h2)]\n",
    "            front = update_front(front, ind, pareto_dominance_min)\n",
    "\n",
    "            # Document performance\n",
    "            # print(\"Params\\nn_trees: %d\\tmax_depth: %d\" % (h1, h2))\n",
    "            # print(\"Precision: %f\\tRecall: %f\" % (score[0], score[1]))\n",
    "            # print(\"*********************************************\")\n",
    "    return front\n",
    "    # return generate_RF_front(front)\n",
    "\n",
    "def generate_RF_front(front):\n",
    "    # implements svms for each point on the pareto front\n",
    "    # returns a list of SVMs\n",
    "    models = []\n",
    "    for ind in front:\n",
    "        clf = RandomForestClassifier(n_estimators=ind[1][0], max_depth=ind[1][1])\n",
    "        models += [clf]\n",
    "    return models\n"
   ]
  },
  {
   "cell_type": "markdown",
   "metadata": {},
   "source": [
    "The above methods will find an optimal pareto front for the random forrest classifier"
   ]
  },
  {
   "cell_type": "code",
   "execution_count": 41,
   "metadata": {},
   "outputs": [],
   "source": [
    "def find_best_SVM(data, labels):\n",
    "    clf = svm.SVC()\n",
    "\n",
    "    kernels = ['rbf']\n",
    "    probabilities = [False, True]\n",
    "    tols = [0.00001, 0.0001, 0.001, 0.01]\n",
    "    \n",
    "    front = []  # list of best scores & params\n",
    "\n",
    "    print(\"starting svm search\")\n",
    "\n",
    "    # block searching for best parameters based on cross validation\n",
    "    for k in kernels:\n",
    "        for p in probabilities:\n",
    "            for t in tols:\n",
    "                #print(\"Params\\nk: %s\\tp: %s\\tt: %f\" % (k, p, t))\n",
    "\n",
    "                #create and score classifier with given hyperparameters\n",
    "                clf = svm.SVC(kernel=k, probability=p, tol=t)\n",
    "                score = score(clf, data, labels)\n",
    "                score = convert_to_FP_FN(labels, score[0], score[1])\n",
    "\n",
    "                # keep track of paretofront\n",
    "                ind = [score, (k,p,t)]\n",
    "                front = update_front(front, ind, pareto_dominance_min)\n",
    "\n",
    "                # document performance\n",
    "                #print(\"FP: %f\\tFN: %f\" % (score[0],score[1]))\n",
    "                #print(\"*********************************************\")\n",
    "\n",
    "\n",
    "        # return pareto front classifiers\n",
    "    return front\n",
    "    # return generate_SVM_front(front)\n",
    "\n",
    "def generate_SVM_front(front):\n",
    "    # implements svms for each point on the pareto front\n",
    "    # returns a list of SVMs\n",
    "    models = []\n",
    "    for ind in front:\n",
    "        clf = svm.SVC(kernel=ind[1][0], probability=ind[1][1], tol=ind[1][2])\n",
    "        models += [clf]\n",
    "    return models\n"
   ]
  },
  {
   "cell_type": "markdown",
   "metadata": {},
   "source": [
    "The above code will find an optimal pareto front of SVM classifiers"
   ]
  },
  {
   "cell_type": "code",
   "execution_count": 42,
   "metadata": {},
   "outputs": [],
   "source": [
    "def find_best_knn(data, labels):\n",
    "    neighbors = list(range(1,50))\n",
    "    front = []\n",
    "    for k in neighbors:\n",
    "        knn = KNeighborsClassifier(n_neighbors=k)\n",
    "        scores = score(knn, data, labels)\n",
    "        precision, recall = scores\n",
    "        score = convert_to_FP_FN(labels, precision, recall)\n",
    "        individual = [score, [k]]\n",
    "        front = update_front(front, individual, pareto_dominance_min)\n",
    "    return front\n",
    "    # return generate_KNN_front(front)\n",
    "\n",
    "def generate_KNN_front(front):\n",
    "    # implements svms for each point on the pareto front\n",
    "    # returns a list of SVMs\n",
    "    models = []\n",
    "    for individual in front:\n",
    "        clf = KNeighborsClassifier(n_neighbors = individual[1][0])\n",
    "        models += [clf]\n",
    "    return models"
   ]
  },
  {
   "cell_type": "markdown",
   "metadata": {},
   "source": [
    "The above code will find the optimal pareto front of KNN classifiers"
   ]
  },
  {
   "cell_type": "code",
   "execution_count": 51,
   "metadata": {},
   "outputs": [],
   "source": [
    "def find_best_gaussianNB(data, labels):\n",
    "    front = []\n",
    "    scores = parser.score(GaussianNB(), data, labels)\n",
    "    precision, recall = scores\n",
    "    score = convert_to_FP_FN(labels, precision, recall)\n",
    "    individual = [score, []]\n",
    "    front = update_front(front, individual, pareto_dominance_min)\n",
    "    return front"
   ]
  },
  {
   "cell_type": "markdown",
   "metadata": {},
   "source": [
    "The above code will produce the inly available gaussian bayes net."
   ]
  },
  {
   "cell_type": "code",
   "execution_count": 44,
   "metadata": {},
   "outputs": [],
   "source": [
    "def get_fp_fn(clf, train, test):\n",
    "    x_train, y_train = train\n",
    "    x_test, y_test = test\n",
    "    clf.fit(x_train, y_train)\n",
    "\n",
    "    # predict the response\n",
    "    preds = clf.predict(x_test)\n",
    "    fp = sum([1 for i in range(len(preds)) if preds[i] == 1 and y_test[i][1] == 0])\n",
    "    fn = sum([1 for i in range(len(preds)) if preds[i] == 0 and y_test[i][1] == 1])\n",
    "    return (fp, fn)"
   ]
  },
  {
   "cell_type": "markdown",
   "metadata": {},
   "source": [
    "The above method will return the false positives and false negatives for the given classifier"
   ]
  },
  {
   "cell_type": "markdown",
   "metadata": {},
   "source": [
    "Now we can put it all together!"
   ]
  },
  {
   "cell_type": "code",
   "execution_count": 45,
   "metadata": {},
   "outputs": [
    {
     "name": "stdout",
     "output_type": "stream",
     "text": [
      "Loaded train.csv\n",
      "Loaded test.csv\n",
      "Loaded gender_submission.csv\n"
     ]
    }
   ],
   "source": [
    "train, test = load_split_all()\n",
    "train_x, train_y = train\n",
    "test_x, test_y = test"
   ]
  },
  {
   "cell_type": "markdown",
   "metadata": {},
   "source": [
    "First we organize the data"
   ]
  },
  {
   "cell_type": "code",
   "execution_count": 46,
   "metadata": {
    "scrolled": true
   },
   "outputs": [
    {
     "name": "stdout",
     "output_type": "stream",
     "text": [
      "Searching for best random forest\n"
     ]
    }
   ],
   "source": [
    "rf_front = rfClassifier.find_best_rf(train_x, train_y)"
   ]
  },
  {
   "cell_type": "code",
   "execution_count": 47,
   "metadata": {},
   "outputs": [
    {
     "name": "stdout",
     "output_type": "stream",
     "text": [
      "Searching for best SVM\n"
     ]
    }
   ],
   "source": [
    "svm_front = svm.find_best_SVM(train_x, train_y)"
   ]
  },
  {
   "cell_type": "code",
   "execution_count": 48,
   "metadata": {},
   "outputs": [
    {
     "name": "stdout",
     "output_type": "stream",
     "text": [
      "Searching for best knn\n"
     ]
    }
   ],
   "source": [
    "knn_front = knnClassifier.find_best_knn(train_x, train_y)"
   ]
  },
  {
   "cell_type": "code",
   "execution_count": 58,
   "metadata": {},
   "outputs": [],
   "source": [
    "gnb_front = find_best_gaussianNB(train_x, train_y)"
   ]
  },
  {
   "cell_type": "raw",
   "metadata": {},
   "source": [
    "Now we find our pareto fronts"
   ]
  },
  {
   "cell_type": "code",
   "execution_count": 59,
   "metadata": {},
   "outputs": [
    {
     "name": "stderr",
     "output_type": "stream",
     "text": [
      "/home/joel/anaconda2/lib/python2.7/site-packages/sklearn/model_selection/_split.py:2026: FutureWarning: From version 0.21, test_size will always complement train_size unless both are specified.\n",
      "  FutureWarning)\n"
     ]
    },
    {
     "ename": "IndexError",
     "evalue": "invalid index to scalar variable.",
     "output_type": "error",
     "traceback": [
      "\u001b[0;31m------------------------------------------------------------------------\u001b[0m",
      "\u001b[0;31mIndexError\u001b[0m                             Traceback (most recent call last)",
      "\u001b[0;32m<ipython-input-59-e27c0f3dcdba>\u001b[0m in \u001b[0;36m<module>\u001b[0;34m()\u001b[0m\n\u001b[1;32m      1\u001b[0m \u001b[0mx_train\u001b[0m\u001b[0;34m,\u001b[0m \u001b[0mx_test\u001b[0m\u001b[0;34m,\u001b[0m \u001b[0my_train\u001b[0m\u001b[0;34m,\u001b[0m \u001b[0my_test\u001b[0m \u001b[0;34m=\u001b[0m \u001b[0mtrain_test_split\u001b[0m\u001b[0;34m(\u001b[0m\u001b[0mtrain\u001b[0m\u001b[0;34m[\u001b[0m\u001b[0;36m0\u001b[0m\u001b[0;34m]\u001b[0m\u001b[0;34m,\u001b[0m \u001b[0mtrain\u001b[0m\u001b[0;34m[\u001b[0m\u001b[0;36m1\u001b[0m\u001b[0;34m]\u001b[0m\u001b[0;34m,\u001b[0m \u001b[0mtrain_size\u001b[0m\u001b[0;34m=\u001b[0m\u001b[0;36m.2\u001b[0m\u001b[0;34m)\u001b[0m \u001b[0;31m# Don't actually use test data\u001b[0m\u001b[0;34m\u001b[0m\u001b[0m\n\u001b[0;32m----> 2\u001b[0;31m \u001b[0mrf_scores\u001b[0m \u001b[0;34m=\u001b[0m \u001b[0mnp\u001b[0m\u001b[0;34m.\u001b[0m\u001b[0masarray\u001b[0m\u001b[0;34m(\u001b[0m\u001b[0;34m[\u001b[0m\u001b[0mget_fp_fn\u001b[0m\u001b[0;34m(\u001b[0m\u001b[0mclf\u001b[0m\u001b[0;34m,\u001b[0m \u001b[0;34m(\u001b[0m\u001b[0mx_train\u001b[0m\u001b[0;34m,\u001b[0m \u001b[0my_train\u001b[0m\u001b[0;34m)\u001b[0m\u001b[0;34m,\u001b[0m \u001b[0;34m(\u001b[0m\u001b[0mx_test\u001b[0m\u001b[0;34m,\u001b[0m \u001b[0my_test\u001b[0m\u001b[0;34m)\u001b[0m\u001b[0;34m)\u001b[0m \u001b[0;32mfor\u001b[0m \u001b[0mclf\u001b[0m \u001b[0;32min\u001b[0m \u001b[0mrf_front\u001b[0m\u001b[0;34m]\u001b[0m\u001b[0;34m)\u001b[0m\u001b[0;34m\u001b[0m\u001b[0m\n\u001b[0m\u001b[1;32m      3\u001b[0m \u001b[0msvm_scores\u001b[0m \u001b[0;34m=\u001b[0m \u001b[0mnp\u001b[0m\u001b[0;34m.\u001b[0m\u001b[0masarray\u001b[0m\u001b[0;34m(\u001b[0m\u001b[0;34m[\u001b[0m\u001b[0mget_fp_fn\u001b[0m\u001b[0;34m(\u001b[0m\u001b[0mclf\u001b[0m\u001b[0;34m,\u001b[0m \u001b[0mtrain\u001b[0m\u001b[0;34m,\u001b[0m \u001b[0mtest\u001b[0m\u001b[0;34m)\u001b[0m \u001b[0;32mfor\u001b[0m \u001b[0mclf\u001b[0m \u001b[0;32min\u001b[0m \u001b[0msvm_front\u001b[0m\u001b[0;34m]\u001b[0m\u001b[0;34m)\u001b[0m\u001b[0;34m\u001b[0m\u001b[0m\n\u001b[1;32m      4\u001b[0m \u001b[0mknn_scores\u001b[0m \u001b[0;34m=\u001b[0m \u001b[0mnp\u001b[0m\u001b[0;34m.\u001b[0m\u001b[0masarray\u001b[0m\u001b[0;34m(\u001b[0m\u001b[0;34m[\u001b[0m\u001b[0mget_fp_fn\u001b[0m\u001b[0;34m(\u001b[0m\u001b[0mclf\u001b[0m\u001b[0;34m,\u001b[0m \u001b[0mtrain\u001b[0m\u001b[0;34m,\u001b[0m \u001b[0mtest\u001b[0m\u001b[0;34m)\u001b[0m \u001b[0;32mfor\u001b[0m \u001b[0mclf\u001b[0m \u001b[0;32min\u001b[0m \u001b[0mknn_front\u001b[0m\u001b[0;34m]\u001b[0m\u001b[0;34m)\u001b[0m\u001b[0;34m\u001b[0m\u001b[0m\n\u001b[1;32m      5\u001b[0m \u001b[0mgnb_scores\u001b[0m \u001b[0;34m=\u001b[0m \u001b[0mnp\u001b[0m\u001b[0;34m.\u001b[0m\u001b[0masarray\u001b[0m\u001b[0;34m(\u001b[0m\u001b[0;34m[\u001b[0m\u001b[0mget_fp_fn\u001b[0m\u001b[0;34m(\u001b[0m\u001b[0mclf\u001b[0m\u001b[0;34m,\u001b[0m \u001b[0mtrain\u001b[0m\u001b[0;34m,\u001b[0m \u001b[0mtest\u001b[0m\u001b[0;34m)\u001b[0m \u001b[0;32mfor\u001b[0m \u001b[0mclf\u001b[0m \u001b[0;32min\u001b[0m \u001b[0mgnb_front\u001b[0m\u001b[0;34m]\u001b[0m\u001b[0;34m)\u001b[0m\u001b[0;34m\u001b[0m\u001b[0m\n",
      "\u001b[0;32m<ipython-input-44-c7fecec3034f>\u001b[0m in \u001b[0;36mget_fp_fn\u001b[0;34m(clf, train, test)\u001b[0m\n\u001b[1;32m      6\u001b[0m     \u001b[0;31m# predict the response\u001b[0m\u001b[0;34m\u001b[0m\u001b[0;34m\u001b[0m\u001b[0m\n\u001b[1;32m      7\u001b[0m     \u001b[0mpreds\u001b[0m \u001b[0;34m=\u001b[0m \u001b[0mclf\u001b[0m\u001b[0;34m.\u001b[0m\u001b[0mpredict\u001b[0m\u001b[0;34m(\u001b[0m\u001b[0mx_test\u001b[0m\u001b[0;34m)\u001b[0m\u001b[0;34m\u001b[0m\u001b[0m\n\u001b[0;32m----> 8\u001b[0;31m     \u001b[0mfp\u001b[0m \u001b[0;34m=\u001b[0m \u001b[0msum\u001b[0m\u001b[0;34m(\u001b[0m\u001b[0;34m[\u001b[0m\u001b[0;36m1\u001b[0m \u001b[0;32mfor\u001b[0m \u001b[0mi\u001b[0m \u001b[0;32min\u001b[0m \u001b[0mrange\u001b[0m\u001b[0;34m(\u001b[0m\u001b[0mlen\u001b[0m\u001b[0;34m(\u001b[0m\u001b[0mpreds\u001b[0m\u001b[0;34m)\u001b[0m\u001b[0;34m)\u001b[0m \u001b[0;32mif\u001b[0m \u001b[0mpreds\u001b[0m\u001b[0;34m[\u001b[0m\u001b[0mi\u001b[0m\u001b[0;34m]\u001b[0m \u001b[0;34m==\u001b[0m \u001b[0;36m1\u001b[0m \u001b[0;32mand\u001b[0m \u001b[0my_test\u001b[0m\u001b[0;34m[\u001b[0m\u001b[0mi\u001b[0m\u001b[0;34m]\u001b[0m\u001b[0;34m[\u001b[0m\u001b[0;36m1\u001b[0m\u001b[0;34m]\u001b[0m \u001b[0;34m==\u001b[0m \u001b[0;36m0\u001b[0m\u001b[0;34m]\u001b[0m\u001b[0;34m)\u001b[0m\u001b[0;34m\u001b[0m\u001b[0m\n\u001b[0m\u001b[1;32m      9\u001b[0m     \u001b[0mfn\u001b[0m \u001b[0;34m=\u001b[0m \u001b[0msum\u001b[0m\u001b[0;34m(\u001b[0m\u001b[0;34m[\u001b[0m\u001b[0;36m1\u001b[0m \u001b[0;32mfor\u001b[0m \u001b[0mi\u001b[0m \u001b[0;32min\u001b[0m \u001b[0mrange\u001b[0m\u001b[0;34m(\u001b[0m\u001b[0mlen\u001b[0m\u001b[0;34m(\u001b[0m\u001b[0mpreds\u001b[0m\u001b[0;34m)\u001b[0m\u001b[0;34m)\u001b[0m \u001b[0;32mif\u001b[0m \u001b[0mpreds\u001b[0m\u001b[0;34m[\u001b[0m\u001b[0mi\u001b[0m\u001b[0;34m]\u001b[0m \u001b[0;34m==\u001b[0m \u001b[0;36m0\u001b[0m \u001b[0;32mand\u001b[0m \u001b[0my_test\u001b[0m\u001b[0;34m[\u001b[0m\u001b[0mi\u001b[0m\u001b[0;34m]\u001b[0m\u001b[0;34m[\u001b[0m\u001b[0;36m1\u001b[0m\u001b[0;34m]\u001b[0m \u001b[0;34m==\u001b[0m \u001b[0;36m1\u001b[0m\u001b[0;34m]\u001b[0m\u001b[0;34m)\u001b[0m\u001b[0;34m\u001b[0m\u001b[0m\n\u001b[1;32m     10\u001b[0m     \u001b[0;32mreturn\u001b[0m \u001b[0;34m(\u001b[0m\u001b[0mfp\u001b[0m\u001b[0;34m,\u001b[0m \u001b[0mfn\u001b[0m\u001b[0;34m)\u001b[0m\u001b[0;34m\u001b[0m\u001b[0m\n",
      "\u001b[0;31mIndexError\u001b[0m: invalid index to scalar variable."
     ]
    }
   ],
   "source": [
    "x_train, x_test, y_train, y_test = train_test_split(train[0], train[1], train_size=.2) # Don't actually use test data\n",
    "rf_scores = np.asarray([get_fp_fn(clf, (x_train, y_train), (x_test, y_test)) for clf in rf_front])\n",
    "svm_scores = np.asarray([get_fp_fn(clf, train, test) for clf in svm_front])\n",
    "knn_scores = np.asarray([get_fp_fn(clf, train, test) for clf in knn_front])\n",
    "gnb_scores = np.asarray([get_fp_fn(clf, train, test) for clf in gnb_front])"
   ]
  },
  {
   "cell_type": "markdown",
   "metadata": {},
   "source": [
    "We need to evaluate these clean these front results, as though they formed the pareto-front on our cross-eval'ed training, they are not necessarily all in the pareto-front for our final test set."
   ]
  },
  {
   "cell_type": "code",
   "execution_count": 19,
   "metadata": {},
   "outputs": [],
   "source": [
    "rf_true = []\n",
    "for score in rf_scores:\n",
    "    score = [score, ()] # dummy\n",
    "    rf_true = update_front(rf_true, score, pareto_dominance_min)\n",
    "rf_scores = np.asarray([np.asarray(ind[0]) for ind in rf_true])\n",
    "svm_true = []\n",
    "for score in svm_scores:\n",
    "    score = [score, ()]\n",
    "    svm_true = update_front(svm_true, score, pareto_dominance_min)\n",
    "svm_scores = np.asarray([np.asarray(ind[0]) for ind in svm_true])\n",
    "knn_true = []\n",
    "for score in knn_scores:\n",
    "    score = [score, ()]\n",
    "    knn_true = update_front(knn_true, score, pareto_dominance_min)\n",
    "knn_scores = np.asarray([np.asarray(ind[0]) for ind in knn_true])\n",
    "\n",
    "# Sort scores so they display pseudo HoF\n",
    "rf_scores = rf_scores[np.argsort(rf_scores[:, 0])]\n",
    "svm_scores = svm_scores[np.argsort(svm_scores[:, 0])]\n",
    "knn_scores = knn_scores[np.argsort(knn_scores[:, 0])]\n"
   ]
  },
  {
   "cell_type": "markdown",
   "metadata": {},
   "source": [
    "Now we can graph our results"
   ]
  },
  {
   "cell_type": "code",
   "execution_count": 20,
   "metadata": {},
   "outputs": [
    {
     "data": {
      "image/png": "[encoded data removed]",
      "text/plain": [
       "<Figure size 432x288 with 1 Axes>"
      ]
     },
     "metadata": {},
     "output_type": "display_data"
    }
   ],
   "source": [
    "fig, ax = plt.subplots()\n",
    "ax.set_title(\"Titanic Pareto Fronts\")\n",
    "ax.plot(rf_scores[:,0], rf_scores[:,1], c='b', marker='o', markersize='12', label='RF')\n",
    "ax.plot(svm_scores[:, 0], svm_scores[:, 1], c='g', marker='o', markersize='12', label='SVM')\n",
    "ax.plot(knn_scores[:, 0], knn_scores[:, 1], c='r', marker='o', markersize='12', label='KNN')\n",
    "ax.plot(gnb_scores[:,0], gnb_scores[:,1], c='m', marker='o', markersize='12', label='GNB')\n",
    "# ax.plot(gnb_scores[:, 0], gnb_scores[:, 1], c='m', label='GNB')\n",
    "plt.xlabel(\"False Positives\")\n",
    "plt.ylabel(\"False Negatives\")\n",
    "ax.legend()\n",
    "plt.show()\n"
   ]
  },
  {
   "cell_type": "markdown",
   "metadata": {},
   "source": [
    "SHOW ME THE GRAPHS"
   ]
  }
 ],
 "metadata": {
  "kernelspec": {
   "display_name": "Python 2",
   "language": "python",
   "name": "python2"
  },
  "language_info": {
   "codemirror_mode": {
    "name": "ipython",
    "version": 2
   },
   "file_extension": ".py",
   "mimetype": "text/x-python",
   "name": "python",
   "nbconvert_exporter": "python",
   "pygments_lexer": "ipython2",
   "version": "2.7.15"
  }
 },
 "nbformat": 4,
 "nbformat_minor": 2
}
